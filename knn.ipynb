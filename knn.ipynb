{
 "cells": [
  {
   "cell_type": "code",
   "execution_count": 1,
   "metadata": {},
   "outputs": [],
   "source": [
    "from csv import reader"
   ]
  },
  {
   "cell_type": "code",
   "execution_count": 2,
   "metadata": {},
   "outputs": [
    {
     "name": "stdout",
     "output_type": "stream",
     "text": [
      "['w1', 'h1']\n",
      "['184', '218']\n"
     ]
    }
   ],
   "source": [
    "with open('./data/labels.csv', 'r') as read_object:\n",
    "    csv_reader = reader(read_object)\n",
    "    print(csv_reader.__next__()[3:5])\n",
    "    print(csv_reader.__next__()[3:5])"
   ]
  },
  {
   "cell_type": "code",
   "execution_count": 3,
   "metadata": {},
   "outputs": [
    {
     "data": {
      "text/plain": [
       "([['184', '218'], ['171', '133'], ['200', '233']], 271749)"
      ]
     },
     "execution_count": 3,
     "metadata": {},
     "output_type": "execute_result"
    }
   ],
   "source": [
    "card_dimensions = []\n",
    "with open('./data/labels.csv', 'r') as read_object:\n",
    "    csv_reader = reader(read_object)\n",
    "    csv_reader.__next__()  # skip header\n",
    "    for row in csv_reader:\n",
    "        card_dimensions.append(row[3:5])\n",
    "card_dimensions[:3], len(card_dimensions)"
   ]
  },
  {
   "cell_type": "code",
   "execution_count": 4,
   "metadata": {},
   "outputs": [
    {
     "data": {
      "text/plain": [
       "[['164', '207'],\n",
       " ['148', '169'],\n",
       " ['160', '130'],\n",
       " ['167', '230'],\n",
       " ['154', '185'],\n",
       " ['122', '173']]"
      ]
     },
     "execution_count": 4,
     "metadata": {},
     "output_type": "execute_result"
    }
   ],
   "source": [
    "card_dimensions[7939: 7945]"
   ]
  },
  {
   "cell_type": "code",
   "execution_count": 5,
   "metadata": {},
   "outputs": [],
   "source": [
    "def check_dimensions_list(dimensions_list: list):\n",
    "    for idx, row in enumerate(card_dimensions):\n",
    "        if len(row) != 2:\n",
    "            print(idx, row)\n",
    "            continue\n",
    "        if row[0] is None or row[1] is None:\n",
    "            print(idx, row)\n",
    "        if row[0] == 'None' or row[1] == 'None':\n",
    "            print(idx, row)\n",
    "                \n",
    "check_dimensions_list(card_dimensions)"
   ]
  },
  {
   "cell_type": "code",
   "execution_count": 6,
   "metadata": {},
   "outputs": [
    {
     "data": {
      "text/plain": [
       "([['184', '218'], ['171', '133'], ['200', '233']], 271749)"
      ]
     },
     "execution_count": 6,
     "metadata": {},
     "output_type": "execute_result"
    }
   ],
   "source": [
    "def fix_dimensions_list(dimensions_list: list, dims_num: int = 2) -> list:\n",
    "    new_list = []\n",
    "    for entry in dimensions_list:\n",
    "        if len(entry) != dims_num:\n",
    "            continue\n",
    "        if entry[0] is None or entry[1] is None:\n",
    "            print(entry)\n",
    "            continue\n",
    "        if entry[0] == 'None' or entry[1] == 'None':\n",
    "            print(entry)\n",
    "            continue\n",
    "        new_list.append(entry)\n",
    "    return new_list\n",
    "\n",
    "card_dimensions = fix_dimensions_list(card_dimensions)\n",
    "card_dimensions[:3], len(card_dimensions)"
   ]
  },
  {
   "cell_type": "code",
   "execution_count": 7,
   "metadata": {},
   "outputs": [],
   "source": [
    "check_dimensions_list(card_dimensions)"
   ]
  },
  {
   "cell_type": "code",
   "execution_count": 8,
   "metadata": {},
   "outputs": [
    {
     "data": {
      "text/plain": [
       "((271749, 2), dtype('int32'))"
      ]
     },
     "execution_count": 8,
     "metadata": {},
     "output_type": "execute_result"
    }
   ],
   "source": [
    "import numpy as np\n",
    "X = np.array(card_dimensions, dtype=int)\n",
    "X.shape, X.dtype"
   ]
  },
  {
   "cell_type": "code",
   "execution_count": 9,
   "metadata": {},
   "outputs": [],
   "source": [
    "from sklearn.cluster import KMeans\n",
    "kmeans = KMeans(n_clusters=3, random_state=0, n_init='auto').fit(X)"
   ]
  },
  {
   "cell_type": "code",
   "execution_count": 10,
   "metadata": {},
   "outputs": [
    {
     "data": {
      "text/plain": [
       "array([[198.27963804, 206.74086672],\n",
       "       [129.59395666, 161.9017149 ],\n",
       "       [161.65437828, 232.34624509]])"
      ]
     },
     "execution_count": 10,
     "metadata": {},
     "output_type": "execute_result"
    }
   ],
   "source": [
    "kmeans.cluster_centers_"
   ]
  },
  {
   "cell_type": "code",
   "execution_count": 16,
   "metadata": {},
   "outputs": [],
   "source": [
    "cards_logs = []\n",
    "with open('./data/labels.csv', 'r') as read_object:\n",
    "    csv_reader = reader(read_object)\n",
    "    csv_reader.__next__()  # skip header\n",
    "    for i, row in enumerate(csv_reader):\n",
    "        if i == 0:\n",
    "            cards_logs.append(','.join(row) + '\\n')\n",
    "            continue\n",
    "        path = row[0]\n",
    "        folders = path.split('/')\n",
    "        for idx, fold in enumerate(folders):\n",
    "            if fold == 'augmented_test':\n",
    "                folders[idx] = 'augmented_1'\n",
    "        path = '/'.join(folders)\n",
    "        row[0] = path\n",
    "        out = ','.join(row) + '\\n'\n",
    "        cards_logs.append(out)\n",
    "    \n",
    "with open('./data/labels_new.csv', 'w') as write_object:\n",
    "    for row in cards_logs:\n",
    "        write_object.write(row)"
   ]
  }
 ],
 "metadata": {
  "kernelspec": {
   "display_name": "nsiete_pytorch_project",
   "language": "python",
   "name": "python3"
  },
  "language_info": {
   "codemirror_mode": {
    "name": "ipython",
    "version": 3
   },
   "file_extension": ".py",
   "mimetype": "text/x-python",
   "name": "python",
   "nbconvert_exporter": "python",
   "pygments_lexer": "ipython3",
   "version": "3.9.16"
  },
  "orig_nbformat": 4
 },
 "nbformat": 4,
 "nbformat_minor": 2
}
