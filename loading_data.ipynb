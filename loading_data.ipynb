{
 "cells": [
  {
   "cell_type": "code",
   "execution_count": 215,
   "metadata": {},
   "outputs": [],
   "source": [
    "import os\n",
    "import pandas as pd\n",
    "import numpy as np\n",
    "import torch\n",
    "from torch.utils.data import Dataset, DataLoader\n",
    "from torchvision.io import read_image\n",
    "import torchvision.transforms.functional as fn\n",
    "import torchvision.transforms as transforms\n"
   ]
  },
  {
   "cell_type": "code",
   "execution_count": 216,
   "metadata": {},
   "outputs": [],
   "source": [
    "CONFIG = {\n",
    "    \"dataset\": {\n",
    "        \"img_dir\": \"data/images\",\n",
    "        \"annotations_file\": \"data/labels.csv\",\n",
    "    },\n",
    "    \"dataloader\": {\n",
    "        \"batch_size\": 2,\n",
    "    }\n",
    "}"
   ]
  },
  {
   "cell_type": "code",
   "execution_count": 217,
   "metadata": {},
   "outputs": [],
   "source": [
    "class MTGCardsDataset(Dataset):\n",
    "    def __init__(self, annotations_file, img_dir, transform=None, target_transform=None):\n",
    "        self.img_labels = pd.read_csv(annotations_file)\n",
    "        print(self.img_labels)\n",
    "        self.img_dir = img_dir\n",
    "        self.transform = transform\n",
    "        self.target_transform = target_transform\n",
    "\n",
    "    def __len__(self):\n",
    "        return len(self.img_labels)\n",
    "\n",
    "    def __getitem__(self, idx):\n",
    "        img_path = os.path.join(self.img_dir, self.img_labels.iloc[idx, 0])\n",
    "        print(idx)\n",
    "        image = read_image(img_path)\n",
    "        label = self.img_labels.iloc[idx, [1,2,3,4]].values\n",
    "        label = np.array(label, dtype=float)\n",
    "        if self.transform:\n",
    "            image = self.transform(image)\n",
    "        if self.target_transform:\n",
    "            label = self.target_transform(label)\n",
    "        return image, label"
   ]
  },
  {
   "cell_type": "code",
   "execution_count": 218,
   "metadata": {},
   "outputs": [
    {
     "name": "stdout",
     "output_type": "stream",
     "text": [
      "      imagename  x  y  w  h\n",
      "0  image_01.jpg  2  3  4  5\n",
      "1  image_02.jpg  6  7  8  9\n"
     ]
    }
   ],
   "source": [
    "test_dataset = MTGCardsDataset(annotations_file=CONFIG[\"dataset\"][\"annotations_file\"], img_dir=CONFIG[\"dataset\"][\"img_dir\"])\n",
    "test_dataloader = DataLoader(test_dataset)"
   ]
  },
  {
   "cell_type": "code",
   "execution_count": 219,
   "metadata": {},
   "outputs": [
    {
     "name": "stdout",
     "output_type": "stream",
     "text": [
      "0\n",
      "tensor([[[[147, 143, 148,  ..., 130, 128, 127],\n",
      "          [145, 141, 148,  ..., 136, 135, 134],\n",
      "          [143, 140, 148,  ..., 137, 136, 135],\n",
      "          ...,\n",
      "          [190, 191, 192,  ..., 162, 159, 157],\n",
      "          [191, 191, 192,  ..., 162, 158, 157],\n",
      "          [191, 192, 192,  ..., 168, 165, 163]],\n",
      "\n",
      "         [[116, 112, 117,  ..., 103, 101, 100],\n",
      "          [114, 110, 117,  ..., 109, 108, 107],\n",
      "          [112, 109, 117,  ..., 110, 109, 108],\n",
      "          ...,\n",
      "          [165, 166, 167,  ..., 142, 139, 137],\n",
      "          [166, 166, 167,  ..., 142, 138, 137],\n",
      "          [166, 167, 167,  ..., 148, 145, 143]],\n",
      "\n",
      "         [[ 87,  83,  88,  ...,  76,  74,  73],\n",
      "          [ 85,  81,  88,  ...,  82,  81,  80],\n",
      "          [ 83,  80,  88,  ...,  83,  82,  81],\n",
      "          ...,\n",
      "          [134, 135, 136,  ..., 117, 114, 112],\n",
      "          [135, 135, 136,  ..., 118, 114, 113],\n",
      "          [135, 136, 136,  ..., 124, 121, 119]]]], dtype=torch.uint8) tensor([[2., 3., 4., 5.]], dtype=torch.float64)\n"
     ]
    },
    {
     "ename": "IndexError",
     "evalue": "index 1 is out of bounds for dimension 0 with size 1",
     "output_type": "error",
     "traceback": [
      "\u001b[1;31m---------------------------------------------------------------------------\u001b[0m",
      "\u001b[1;31mIndexError\u001b[0m                                Traceback (most recent call last)",
      "Cell \u001b[1;32mIn[219], line 3\u001b[0m\n\u001b[0;32m      1\u001b[0m images, labels \u001b[39m=\u001b[39m \u001b[39mnext\u001b[39m(\u001b[39miter\u001b[39m(test_dataloader))\n\u001b[0;32m      2\u001b[0m \u001b[39mprint\u001b[39m(images, labels)\n\u001b[1;32m----> 3\u001b[0m fn\u001b[39m.\u001b[39mto_pil_image(images[\u001b[39m1\u001b[39;49m])\n",
      "\u001b[1;31mIndexError\u001b[0m: index 1 is out of bounds for dimension 0 with size 1"
     ]
    }
   ],
   "source": [
    "images, labels = next(iter(test_dataloader))\n",
    "print(images, labels)\n",
    "fn.to_pil_image(images[0])"
   ]
  },
  {
   "cell_type": "code",
   "execution_count": null,
   "metadata": {},
   "outputs": [
    {
     "name": "stdout",
     "output_type": "stream",
     "text": [
      "0\n",
      "tensor([[2., 3., 4., 5.]], dtype=torch.float64)\n"
     ]
    },
    {
     "ename": "IndexError",
     "evalue": "index 1 is out of bounds for dimension 0 with size 1",
     "output_type": "error",
     "traceback": [
      "\u001b[1;31m---------------------------------------------------------------------------\u001b[0m",
      "\u001b[1;31mIndexError\u001b[0m                                Traceback (most recent call last)",
      "Cell \u001b[1;32mIn[214], line 3\u001b[0m\n\u001b[0;32m      1\u001b[0m images, labels \u001b[39m=\u001b[39m \u001b[39mnext\u001b[39m(\u001b[39miter\u001b[39m(test_dataloader))\n\u001b[0;32m      2\u001b[0m \u001b[39mprint\u001b[39m(labels)\n\u001b[1;32m----> 3\u001b[0m fn\u001b[39m.\u001b[39mto_pil_image(images[\u001b[39m1\u001b[39;49m])\n",
      "\u001b[1;31mIndexError\u001b[0m: index 1 is out of bounds for dimension 0 with size 1"
     ]
    }
   ],
   "source": []
  }
 ],
 "metadata": {
  "kernelspec": {
   "display_name": "pytorch_nn_env",
   "language": "python",
   "name": "python3"
  },
  "language_info": {
   "codemirror_mode": {
    "name": "ipython",
    "version": 3
   },
   "file_extension": ".py",
   "mimetype": "text/x-python",
   "name": "python",
   "nbconvert_exporter": "python",
   "pygments_lexer": "ipython3",
   "version": "3.9.16"
  },
  "orig_nbformat": 4
 },
 "nbformat": 4,
 "nbformat_minor": 2
}
