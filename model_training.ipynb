{
 "cells": [
  {
   "cell_type": "code",
   "execution_count": 6,
   "metadata": {},
   "outputs": [],
   "source": [
    "import torch\n",
    "import torch.nn as nn\n",
    "from torch.utils.data import DataLoader\n",
    "from card_detector import CardDetector, fit\n",
    "from dataloader_utils import MTGCardsDataset, get_transform_pipe\n",
    "from config import *"
   ]
  },
  {
   "cell_type": "code",
   "execution_count": 7,
   "metadata": {},
   "outputs": [
    {
     "name": "stderr",
     "output_type": "stream",
     "text": [
      "c:\\Users\\Leonard\\anaconda3\\envs\\pytorch_nn_env\\lib\\site-packages\\torchvision\\models\\_utils.py:208: UserWarning: The parameter 'pretrained' is deprecated since 0.13 and may be removed in the future, please use 'weights' instead.\n",
      "  warnings.warn(\n",
      "c:\\Users\\Leonard\\anaconda3\\envs\\pytorch_nn_env\\lib\\site-packages\\torchvision\\models\\_utils.py:223: UserWarning: Arguments other than a weight enum or `None` for 'weights' are deprecated since 0.13 and may be removed in the future. The current behavior is equivalent to passing `weights=ResNet18_Weights.IMAGENET1K_V1`. You can also use `weights=ResNet18_Weights.DEFAULT` to get the most up-to-date weights.\n",
      "  warnings.warn(msg)\n"
     ]
    }
   ],
   "source": [
    "anchor_boxes = torch.Tensor([[198.27963804, 206.74086672],\n",
    "       [129.59395666, 161.90171490],\n",
    "       [161.65437828, 232.34624509]\n",
    "]) # Anchor boxes acquired from k-means clustering of the dataset\n",
    "\n",
    "model = CardDetector(img_dims= (CONFIG[\"dataset\"][\"img_w\"], CONFIG[\"dataset\"][\"img_h\"]),\n",
    "                      anchor_boxes=anchor_boxes,\n",
    "                        num_anchors_per_cell=CONFIG[\"dataset\"][\"num_anchors_per_cell\"],\n",
    "                          loss_fn=nn.L1Loss(reduction=\"sum\")\n",
    "                          )\n",
    "\n",
    "dummy_image = torch.randn(1, 3, CONFIG[\"dataset\"][\"img_w\"], CONFIG[\"dataset\"][\"img_h\"]) # create a dummy image to pass to the model and get feature map size\n",
    "feature_map_shape = model.feature_extractor(dummy_image).shape\n",
    "feature_map_dims = (feature_map_shape[-2], feature_map_shape[-1])\n",
    "\n",
    "\n",
    "transform_pipe = get_transform_pipe(img_w=CONFIG[\"dataset\"][\"img_w\"], img_h=CONFIG[\"dataset\"][\"img_h\"])\n",
    "\n",
    "train_dataset = MTGCardsDataset(annotations_file=CONFIG[\"dataset\"][\"annotations_file\"],\n",
    "                                img_dir=CONFIG[\"dataset\"][\"img_dir\"], #TODO: change directory when we have the actual data\n",
    "                                  anchor_boxes=model.anchor_boxes,\n",
    "                                    feature_map_dims=feature_map_dims,\n",
    "                                      img_dims= (CONFIG[\"dataset\"][\"img_w\"], CONFIG[\"dataset\"][\"img_h\"]),\n",
    "                                        num_anchors_per_cell=CONFIG[\"dataset\"][\"num_anchors_per_cell\"],\n",
    "                                          num_max_boxes=1,\n",
    "                                            transform=transform_pipe\n",
    "                                            )\n",
    "train_dataloader = DataLoader(train_dataset, batch_size=CONFIG[\"dataloader\"][\"batch_size\"])\n",
    "\n",
    "val_dataset = MTGCardsDataset(annotations_file=CONFIG[\"dataset\"][\"annotations_file\"],\n",
    "                                img_dir=CONFIG[\"dataset\"][\"img_dir\"], #TODO: change directory when we have the actual data\n",
    "                                  anchor_boxes=model.anchor_boxes,\n",
    "                                    feature_map_dims=feature_map_dims,\n",
    "                                      img_dims= (CONFIG[\"dataset\"][\"img_w\"], CONFIG[\"dataset\"][\"img_h\"]),\n",
    "                                        num_anchors_per_cell=CONFIG[\"dataset\"][\"num_anchors_per_cell\"],\n",
    "                                          num_max_boxes=1,\n",
    "                                            transform=transform_pipe\n",
    "                                            )\n",
    "val_dataloader = DataLoader(val_dataset, batch_size=CONFIG[\"dataloader\"][\"batch_size\"]) "
   ]
  },
  {
   "cell_type": "code",
   "execution_count": 8,
   "metadata": {},
   "outputs": [
    {
     "name": "stderr",
     "output_type": "stream",
     "text": [
      "  0%|          | 0/50 [00:00<?, ?it/s]"
     ]
    },
    {
     "name": "stdout",
     "output_type": "stream",
     "text": [
      "Epoch: 0\n",
      "\n"
     ]
    },
    {
     "name": "stderr",
     "output_type": "stream",
     "text": [
      "  2%|▏         | 1/50 [00:04<03:31,  4.32s/it]"
     ]
    },
    {
     "name": "stdout",
     "output_type": "stream",
     "text": [
      "Looked at 0 Batches\t---\t0/2 Samples\n",
      "Train loss: 1.9076826572418213 | Val Loss: 1.9076826572418213 | Val Accuracy: 0.0\n",
      "Epoch: 1\n",
      "\n"
     ]
    },
    {
     "name": "stderr",
     "output_type": "stream",
     "text": [
      "  4%|▍         | 2/50 [00:04<01:34,  1.97s/it]"
     ]
    },
    {
     "name": "stdout",
     "output_type": "stream",
     "text": [
      "Looked at 0 Batches\t---\t0/2 Samples\n",
      "Train loss: 1.4120514392852783 | Val Loss: 1.4120514392852783 | Val Accuracy: 0.0\n",
      "Epoch: 2\n",
      "\n"
     ]
    },
    {
     "name": "stderr",
     "output_type": "stream",
     "text": [
      "  6%|▌         | 3/50 [00:04<00:57,  1.22s/it]"
     ]
    },
    {
     "name": "stdout",
     "output_type": "stream",
     "text": [
      "Looked at 0 Batches\t---\t0/2 Samples\n",
      "Train loss: 1.194994330406189 | Val Loss: 1.194994330406189 | Val Accuracy: 0.0\n",
      "Epoch: 3\n",
      "\n"
     ]
    },
    {
     "name": "stderr",
     "output_type": "stream",
     "text": [
      "  8%|▊         | 4/50 [00:05<00:40,  1.14it/s]"
     ]
    },
    {
     "name": "stdout",
     "output_type": "stream",
     "text": [
      "Looked at 0 Batches\t---\t0/2 Samples\n",
      "Train loss: 1.0560426712036133 | Val Loss: 1.0560426712036133 | Val Accuracy: 0.0\n",
      "Epoch: 4\n",
      "\n"
     ]
    },
    {
     "name": "stderr",
     "output_type": "stream",
     "text": [
      " 10%|█         | 5/50 [00:05<00:30,  1.47it/s]"
     ]
    },
    {
     "name": "stdout",
     "output_type": "stream",
     "text": [
      "Looked at 0 Batches\t---\t0/2 Samples\n",
      "Train loss: 0.9482094049453735 | Val Loss: 0.9482094049453735 | Val Accuracy: 0.0\n",
      "Epoch: 5\n",
      "\n"
     ]
    },
    {
     "name": "stderr",
     "output_type": "stream",
     "text": [
      " 12%|█▏        | 6/50 [00:05<00:24,  1.79it/s]"
     ]
    },
    {
     "name": "stdout",
     "output_type": "stream",
     "text": [
      "Looked at 0 Batches\t---\t0/2 Samples\n",
      "Train loss: 0.8575007319450378 | Val Loss: 0.8575007319450378 | Val Accuracy: 0.0\n",
      "Epoch: 6\n",
      "\n"
     ]
    },
    {
     "name": "stderr",
     "output_type": "stream",
     "text": [
      " 14%|█▍        | 7/50 [00:06<00:20,  2.06it/s]"
     ]
    },
    {
     "name": "stdout",
     "output_type": "stream",
     "text": [
      "Looked at 0 Batches\t---\t0/2 Samples\n",
      "Train loss: 0.7786122560501099 | Val Loss: 0.7786122560501099 | Val Accuracy: 0.0\n",
      "Epoch: 7\n",
      "\n"
     ]
    },
    {
     "name": "stderr",
     "output_type": "stream",
     "text": [
      " 16%|█▌        | 8/50 [00:06<00:18,  2.29it/s]"
     ]
    },
    {
     "name": "stdout",
     "output_type": "stream",
     "text": [
      "Looked at 0 Batches\t---\t0/2 Samples\n",
      "Train loss: 0.7115246057510376 | Val Loss: 0.7115246057510376 | Val Accuracy: 0.0\n",
      "Epoch: 8\n",
      "\n",
      "Looked at 0 Batches\t---\t0/2 Samples\n"
     ]
    },
    {
     "name": "stderr",
     "output_type": "stream",
     "text": [
      " 18%|█▊        | 9/50 [00:07<00:18,  2.24it/s]"
     ]
    },
    {
     "name": "stdout",
     "output_type": "stream",
     "text": [
      "Train loss: 0.6541926264762878 | Val Loss: 0.6541926264762878 | Val Accuracy: 0.0\n",
      "Epoch: 9\n",
      "\n"
     ]
    },
    {
     "name": "stderr",
     "output_type": "stream",
     "text": [
      " 20%|██        | 10/50 [00:07<00:19,  2.03it/s]"
     ]
    },
    {
     "name": "stdout",
     "output_type": "stream",
     "text": [
      "Looked at 0 Batches\t---\t0/2 Samples\n",
      "Train loss: 0.6035453081130981 | Val Loss: 0.6035453081130981 | Val Accuracy: 0.0\n",
      "Epoch: 10\n",
      "\n"
     ]
    },
    {
     "name": "stderr",
     "output_type": "stream",
     "text": [
      " 22%|██▏       | 11/50 [00:08<00:19,  2.02it/s]"
     ]
    },
    {
     "name": "stdout",
     "output_type": "stream",
     "text": [
      "Looked at 0 Batches\t---\t0/2 Samples\n",
      "Train loss: 0.5578637719154358 | Val Loss: 0.5578637719154358 | Val Accuracy: 0.0\n",
      "Epoch: 11\n",
      "\n"
     ]
    },
    {
     "name": "stderr",
     "output_type": "stream",
     "text": [
      " 24%|██▍       | 12/50 [00:08<00:18,  2.01it/s]"
     ]
    },
    {
     "name": "stdout",
     "output_type": "stream",
     "text": [
      "Looked at 0 Batches\t---\t0/2 Samples\n",
      "Train loss: 0.5170764327049255 | Val Loss: 0.5170764327049255 | Val Accuracy: 0.0\n",
      "Epoch: 12\n",
      "\n"
     ]
    },
    {
     "name": "stderr",
     "output_type": "stream",
     "text": [
      " 26%|██▌       | 13/50 [00:09<00:18,  1.99it/s]"
     ]
    },
    {
     "name": "stdout",
     "output_type": "stream",
     "text": [
      "Looked at 0 Batches\t---\t0/2 Samples\n",
      "Train loss: 0.48083192110061646 | Val Loss: 0.48083192110061646 | Val Accuracy: 0.0\n",
      "Epoch: 13\n",
      "\n"
     ]
    },
    {
     "name": "stderr",
     "output_type": "stream",
     "text": [
      " 28%|██▊       | 14/50 [00:09<00:18,  2.00it/s]"
     ]
    },
    {
     "name": "stdout",
     "output_type": "stream",
     "text": [
      "Looked at 0 Batches\t---\t0/2 Samples\n",
      "Train loss: 0.4484599232673645 | Val Loss: 0.4484599232673645 | Val Accuracy: 0.0\n",
      "Epoch: 14\n",
      "\n"
     ]
    },
    {
     "name": "stderr",
     "output_type": "stream",
     "text": [
      " 30%|███       | 15/50 [00:10<00:17,  1.99it/s]"
     ]
    },
    {
     "name": "stdout",
     "output_type": "stream",
     "text": [
      "Looked at 0 Batches\t---\t0/2 Samples\n",
      "Train loss: 0.41958191990852356 | Val Loss: 0.41958191990852356 | Val Accuracy: 0.0\n",
      "Epoch: 15\n",
      "\n"
     ]
    },
    {
     "name": "stderr",
     "output_type": "stream",
     "text": [
      " 32%|███▏      | 16/50 [00:10<00:17,  1.99it/s]"
     ]
    },
    {
     "name": "stdout",
     "output_type": "stream",
     "text": [
      "Looked at 0 Batches\t---\t0/2 Samples\n",
      "Train loss: 0.3933822214603424 | Val Loss: 0.3933822214603424 | Val Accuracy: 0.0\n",
      "Epoch: 16\n",
      "\n"
     ]
    },
    {
     "name": "stderr",
     "output_type": "stream",
     "text": [
      " 34%|███▍      | 17/50 [00:11<00:16,  1.98it/s]"
     ]
    },
    {
     "name": "stdout",
     "output_type": "stream",
     "text": [
      "Looked at 0 Batches\t---\t0/2 Samples\n",
      "Train loss: 0.36921632289886475 | Val Loss: 0.36921632289886475 | Val Accuracy: 0.0\n",
      "Epoch: 17\n",
      "\n"
     ]
    },
    {
     "name": "stderr",
     "output_type": "stream",
     "text": [
      " 36%|███▌      | 18/50 [00:11<00:16,  1.98it/s]"
     ]
    },
    {
     "name": "stdout",
     "output_type": "stream",
     "text": [
      "Looked at 0 Batches\t---\t0/2 Samples\n",
      "Train loss: 0.3474424183368683 | Val Loss: 0.3474424183368683 | Val Accuracy: 0.0\n",
      "Epoch: 18\n",
      "\n"
     ]
    },
    {
     "name": "stderr",
     "output_type": "stream",
     "text": [
      " 38%|███▊      | 19/50 [00:12<00:15,  1.99it/s]"
     ]
    },
    {
     "name": "stdout",
     "output_type": "stream",
     "text": [
      "Looked at 0 Batches\t---\t0/2 Samples\n",
      "Train loss: 0.3278394639492035 | Val Loss: 0.3278394639492035 | Val Accuracy: 0.0\n",
      "Epoch: 19\n",
      "\n"
     ]
    },
    {
     "name": "stderr",
     "output_type": "stream",
     "text": [
      " 40%|████      | 20/50 [00:12<00:15,  1.98it/s]"
     ]
    },
    {
     "name": "stdout",
     "output_type": "stream",
     "text": [
      "Looked at 0 Batches\t---\t0/2 Samples\n",
      "Train loss: 0.3097269535064697 | Val Loss: 0.3097269535064697 | Val Accuracy: 0.0\n",
      "Epoch: 20\n",
      "\n"
     ]
    },
    {
     "name": "stderr",
     "output_type": "stream",
     "text": [
      " 42%|████▏     | 21/50 [00:13<00:14,  1.99it/s]"
     ]
    },
    {
     "name": "stdout",
     "output_type": "stream",
     "text": [
      "Looked at 0 Batches\t---\t0/2 Samples\n",
      "Train loss: 0.29285624623298645 | Val Loss: 0.29285624623298645 | Val Accuracy: 0.0\n",
      "Epoch: 21\n",
      "\n"
     ]
    },
    {
     "name": "stderr",
     "output_type": "stream",
     "text": [
      " 44%|████▍     | 22/50 [00:13<00:14,  1.99it/s]"
     ]
    },
    {
     "name": "stdout",
     "output_type": "stream",
     "text": [
      "Looked at 0 Batches\t---\t0/2 Samples\n",
      "Train loss: 0.277256578207016 | Val Loss: 0.277256578207016 | Val Accuracy: 0.0\n",
      "Epoch: 22\n",
      "\n"
     ]
    },
    {
     "name": "stderr",
     "output_type": "stream",
     "text": [
      " 46%|████▌     | 23/50 [00:14<00:13,  1.97it/s]"
     ]
    },
    {
     "name": "stdout",
     "output_type": "stream",
     "text": [
      "Looked at 0 Batches\t---\t0/2 Samples\n",
      "Train loss: 0.26282140612602234 | Val Loss: 0.26282140612602234 | Val Accuracy: 0.0\n",
      "Epoch: 23\n",
      "\n"
     ]
    },
    {
     "name": "stderr",
     "output_type": "stream",
     "text": [
      " 48%|████▊     | 24/50 [00:14<00:13,  1.99it/s]"
     ]
    },
    {
     "name": "stdout",
     "output_type": "stream",
     "text": [
      "Looked at 0 Batches\t---\t0/2 Samples\n",
      "Train loss: 0.24924808740615845 | Val Loss: 0.24924808740615845 | Val Accuracy: 0.0\n",
      "Epoch: 24\n",
      "\n"
     ]
    },
    {
     "name": "stderr",
     "output_type": "stream",
     "text": [
      " 50%|█████     | 25/50 [00:15<00:12,  1.99it/s]"
     ]
    },
    {
     "name": "stdout",
     "output_type": "stream",
     "text": [
      "Looked at 0 Batches\t---\t0/2 Samples\n",
      "Train loss: 0.23666350543498993 | Val Loss: 0.23666350543498993 | Val Accuracy: 0.0\n",
      "Epoch: 25\n",
      "\n"
     ]
    },
    {
     "name": "stderr",
     "output_type": "stream",
     "text": [
      " 52%|█████▏    | 26/50 [00:15<00:12,  1.98it/s]"
     ]
    },
    {
     "name": "stdout",
     "output_type": "stream",
     "text": [
      "Looked at 0 Batches\t---\t0/2 Samples\n",
      "Train loss: 0.2249229997396469 | Val Loss: 0.2249229997396469 | Val Accuracy: 0.0\n",
      "Epoch: 26\n",
      "\n"
     ]
    },
    {
     "name": "stderr",
     "output_type": "stream",
     "text": [
      " 54%|█████▍    | 27/50 [00:16<00:11,  2.00it/s]"
     ]
    },
    {
     "name": "stdout",
     "output_type": "stream",
     "text": [
      "Looked at 0 Batches\t---\t0/2 Samples\n",
      "Train loss: 0.21400511264801025 | Val Loss: 0.21400511264801025 | Val Accuracy: 0.0\n",
      "Epoch: 27\n",
      "\n"
     ]
    },
    {
     "name": "stderr",
     "output_type": "stream",
     "text": [
      " 56%|█████▌    | 28/50 [00:16<00:11,  1.98it/s]"
     ]
    },
    {
     "name": "stdout",
     "output_type": "stream",
     "text": [
      "Looked at 0 Batches\t---\t0/2 Samples\n",
      "Train loss: 0.20387069880962372 | Val Loss: 0.20387069880962372 | Val Accuracy: 0.0\n",
      "Epoch: 28\n",
      "\n"
     ]
    },
    {
     "name": "stderr",
     "output_type": "stream",
     "text": [
      " 58%|█████▊    | 29/50 [00:17<00:10,  1.99it/s]"
     ]
    },
    {
     "name": "stdout",
     "output_type": "stream",
     "text": [
      "Looked at 0 Batches\t---\t0/2 Samples\n",
      "Train loss: 0.19438345730304718 | Val Loss: 0.19438345730304718 | Val Accuracy: 0.0\n",
      "Epoch: 29\n",
      "\n"
     ]
    },
    {
     "name": "stderr",
     "output_type": "stream",
     "text": [
      " 60%|██████    | 30/50 [00:17<00:10,  1.99it/s]"
     ]
    },
    {
     "name": "stdout",
     "output_type": "stream",
     "text": [
      "Looked at 0 Batches\t---\t0/2 Samples\n",
      "Train loss: 0.18560366332530975 | Val Loss: 0.18560366332530975 | Val Accuracy: 0.0\n",
      "Epoch: 30\n",
      "\n"
     ]
    },
    {
     "name": "stderr",
     "output_type": "stream",
     "text": [
      " 62%|██████▏   | 31/50 [00:18<00:09,  1.97it/s]"
     ]
    },
    {
     "name": "stdout",
     "output_type": "stream",
     "text": [
      "Looked at 0 Batches\t---\t0/2 Samples\n",
      "Train loss: 0.1775195151567459 | Val Loss: 0.1775195151567459 | Val Accuracy: 0.0\n",
      "Epoch: 31\n",
      "\n"
     ]
    },
    {
     "name": "stderr",
     "output_type": "stream",
     "text": [
      " 64%|██████▍   | 32/50 [00:18<00:09,  1.96it/s]"
     ]
    },
    {
     "name": "stdout",
     "output_type": "stream",
     "text": [
      "Looked at 0 Batches\t---\t0/2 Samples\n",
      "Train loss: 0.16994072496891022 | Val Loss: 0.16994072496891022 | Val Accuracy: 0.0\n",
      "Epoch: 32\n",
      "\n"
     ]
    },
    {
     "name": "stderr",
     "output_type": "stream",
     "text": [
      " 66%|██████▌   | 33/50 [00:19<00:08,  2.00it/s]"
     ]
    },
    {
     "name": "stdout",
     "output_type": "stream",
     "text": [
      "Looked at 0 Batches\t---\t0/2 Samples\n",
      "Train loss: 0.16300082206726074 | Val Loss: 0.16300082206726074 | Val Accuracy: 0.0\n",
      "Epoch: 33\n",
      "\n"
     ]
    },
    {
     "name": "stderr",
     "output_type": "stream",
     "text": [
      " 68%|██████▊   | 34/50 [00:19<00:08,  1.99it/s]"
     ]
    },
    {
     "name": "stdout",
     "output_type": "stream",
     "text": [
      "Looked at 0 Batches\t---\t0/2 Samples\n",
      "Train loss: 0.15645606815814972 | Val Loss: 0.15645606815814972 | Val Accuracy: 0.0\n",
      "Epoch: 34\n",
      "\n"
     ]
    },
    {
     "name": "stderr",
     "output_type": "stream",
     "text": [
      " 70%|███████   | 35/50 [00:20<00:07,  1.99it/s]"
     ]
    },
    {
     "name": "stdout",
     "output_type": "stream",
     "text": [
      "Looked at 0 Batches\t---\t0/2 Samples\n",
      "Train loss: 0.15039214491844177 | Val Loss: 0.15039214491844177 | Val Accuracy: 0.0\n",
      "Epoch: 35\n",
      "\n"
     ]
    },
    {
     "name": "stderr",
     "output_type": "stream",
     "text": [
      " 72%|███████▏  | 36/50 [00:20<00:07,  1.99it/s]"
     ]
    },
    {
     "name": "stdout",
     "output_type": "stream",
     "text": [
      "Looked at 0 Batches\t---\t0/2 Samples\n",
      "Train loss: 0.1446319967508316 | Val Loss: 0.1446319967508316 | Val Accuracy: 0.0\n",
      "Epoch: 36\n",
      "\n"
     ]
    },
    {
     "name": "stderr",
     "output_type": "stream",
     "text": [
      " 74%|███████▍  | 37/50 [00:21<00:06,  1.99it/s]"
     ]
    },
    {
     "name": "stdout",
     "output_type": "stream",
     "text": [
      "Looked at 0 Batches\t---\t0/2 Samples\n",
      "Train loss: 0.13924279808998108 | Val Loss: 0.13924279808998108 | Val Accuracy: 0.0\n",
      "Epoch: 37\n",
      "\n"
     ]
    },
    {
     "name": "stderr",
     "output_type": "stream",
     "text": [
      " 76%|███████▌  | 38/50 [00:21<00:06,  1.99it/s]"
     ]
    },
    {
     "name": "stdout",
     "output_type": "stream",
     "text": [
      "Looked at 0 Batches\t---\t0/2 Samples\n",
      "Train loss: 0.1341433823108673 | Val Loss: 0.1341433823108673 | Val Accuracy: 0.0\n",
      "Epoch: 38\n",
      "\n"
     ]
    },
    {
     "name": "stderr",
     "output_type": "stream",
     "text": [
      " 78%|███████▊  | 39/50 [00:22<00:05,  1.99it/s]"
     ]
    },
    {
     "name": "stdout",
     "output_type": "stream",
     "text": [
      "Looked at 0 Batches\t---\t0/2 Samples\n",
      "Train loss: 0.1293950080871582 | Val Loss: 0.1293950080871582 | Val Accuracy: 0.0\n",
      "Epoch: 39\n",
      "\n"
     ]
    },
    {
     "name": "stderr",
     "output_type": "stream",
     "text": [
      " 80%|████████  | 40/50 [00:22<00:05,  1.99it/s]"
     ]
    },
    {
     "name": "stdout",
     "output_type": "stream",
     "text": [
      "Looked at 0 Batches\t---\t0/2 Samples\n",
      "Train loss: 0.1249217838048935 | Val Loss: 0.1249217838048935 | Val Accuracy: 0.0\n",
      "Epoch: 40\n",
      "\n"
     ]
    },
    {
     "name": "stderr",
     "output_type": "stream",
     "text": [
      " 82%|████████▏ | 41/50 [00:23<00:04,  1.98it/s]"
     ]
    },
    {
     "name": "stdout",
     "output_type": "stream",
     "text": [
      "Looked at 0 Batches\t---\t0/2 Samples\n",
      "Train loss: 0.12073221802711487 | Val Loss: 0.12073221802711487 | Val Accuracy: 0.0\n",
      "Epoch: 41\n",
      "\n"
     ]
    },
    {
     "name": "stderr",
     "output_type": "stream",
     "text": [
      " 84%|████████▍ | 42/50 [00:23<00:04,  1.96it/s]"
     ]
    },
    {
     "name": "stdout",
     "output_type": "stream",
     "text": [
      "Looked at 0 Batches\t---\t0/2 Samples\n",
      "Train loss: 0.11678517609834671 | Val Loss: 0.11678517609834671 | Val Accuracy: 0.0\n",
      "Epoch: 42\n",
      "\n"
     ]
    },
    {
     "name": "stderr",
     "output_type": "stream",
     "text": [
      " 86%|████████▌ | 43/50 [00:24<00:03,  1.99it/s]"
     ]
    },
    {
     "name": "stdout",
     "output_type": "stream",
     "text": [
      "Looked at 0 Batches\t---\t0/2 Samples\n",
      "Train loss: 0.11307787150144577 | Val Loss: 0.11307787150144577 | Val Accuracy: 0.0\n",
      "Epoch: 43\n",
      "\n"
     ]
    },
    {
     "name": "stderr",
     "output_type": "stream",
     "text": [
      " 88%|████████▊ | 44/50 [00:24<00:03,  1.99it/s]"
     ]
    },
    {
     "name": "stdout",
     "output_type": "stream",
     "text": [
      "Looked at 0 Batches\t---\t0/2 Samples\n",
      "Train loss: 0.10957079380750656 | Val Loss: 0.10957079380750656 | Val Accuracy: 0.0\n",
      "Epoch: 44\n",
      "\n"
     ]
    },
    {
     "name": "stderr",
     "output_type": "stream",
     "text": [
      " 90%|█████████ | 45/50 [00:25<00:02,  1.99it/s]"
     ]
    },
    {
     "name": "stdout",
     "output_type": "stream",
     "text": [
      "Looked at 0 Batches\t---\t0/2 Samples\n",
      "Train loss: 0.1062651202082634 | Val Loss: 0.1062651202082634 | Val Accuracy: 0.0\n",
      "Epoch: 45\n",
      "\n"
     ]
    },
    {
     "name": "stderr",
     "output_type": "stream",
     "text": [
      " 92%|█████████▏| 46/50 [00:25<00:02,  1.99it/s]"
     ]
    },
    {
     "name": "stdout",
     "output_type": "stream",
     "text": [
      "Looked at 0 Batches\t---\t0/2 Samples\n",
      "Train loss: 0.10312309116125107 | Val Loss: 0.10312309116125107 | Val Accuracy: 0.0\n",
      "Epoch: 46\n",
      "\n"
     ]
    },
    {
     "name": "stderr",
     "output_type": "stream",
     "text": [
      " 94%|█████████▍| 47/50 [00:26<00:01,  1.99it/s]"
     ]
    },
    {
     "name": "stdout",
     "output_type": "stream",
     "text": [
      "Looked at 0 Batches\t---\t0/2 Samples\n",
      "Train loss: 0.10017556697130203 | Val Loss: 0.10017556697130203 | Val Accuracy: 0.0\n",
      "Epoch: 47\n",
      "\n"
     ]
    },
    {
     "name": "stderr",
     "output_type": "stream",
     "text": [
      " 96%|█████████▌| 48/50 [00:26<00:01,  1.99it/s]"
     ]
    },
    {
     "name": "stdout",
     "output_type": "stream",
     "text": [
      "Looked at 0 Batches\t---\t0/2 Samples\n",
      "Train loss: 0.09736550599336624 | Val Loss: 0.09736550599336624 | Val Accuracy: 0.0\n",
      "Epoch: 48\n",
      "\n"
     ]
    },
    {
     "name": "stderr",
     "output_type": "stream",
     "text": [
      " 98%|█████████▊| 49/50 [00:27<00:00,  1.99it/s]"
     ]
    },
    {
     "name": "stdout",
     "output_type": "stream",
     "text": [
      "Looked at 0 Batches\t---\t0/2 Samples\n",
      "Train loss: 0.09471507370471954 | Val Loss: 0.09471507370471954 | Val Accuracy: 0.0\n",
      "Epoch: 49\n",
      "\n"
     ]
    },
    {
     "name": "stderr",
     "output_type": "stream",
     "text": [
      "100%|██████████| 50/50 [00:27<00:00,  1.80it/s]"
     ]
    },
    {
     "name": "stdout",
     "output_type": "stream",
     "text": [
      "Looked at 0 Batches\t---\t0/2 Samples\n",
      "Train loss: 0.09219635277986526 | Val Loss: 0.09219635277986526 | Val Accuracy: 0.0\n"
     ]
    },
    {
     "name": "stderr",
     "output_type": "stream",
     "text": [
      "\n"
     ]
    }
   ],
   "source": [
    "opt = torch.optim.Adam(params=model.parameters(), lr=CONFIG[\"optimizer\"][\"lr\"])\n",
    "fit(model=model, num_epochs=50, optimizer=opt, train_dataloader= train_dataloader, val_dataloader= val_dataloader, device= (\"cuda\" if torch.cuda.is_available() else \"cpu\"))"
   ]
  }
 ],
 "metadata": {
  "kernelspec": {
   "display_name": "pytorch_nn_env",
   "language": "python",
   "name": "python3"
  },
  "language_info": {
   "codemirror_mode": {
    "name": "ipython",
    "version": 3
   },
   "file_extension": ".py",
   "mimetype": "text/x-python",
   "name": "python",
   "nbconvert_exporter": "python",
   "pygments_lexer": "ipython3",
   "version": "3.9.16"
  },
  "orig_nbformat": 4
 },
 "nbformat": 4,
 "nbformat_minor": 2
}
